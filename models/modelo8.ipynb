{
 "cells": [
  {
   "attachments": {},
   "cell_type": "markdown",
   "metadata": {},
   "source": [
    "Consiste en un ensamble de los modelos 5, 6 y 7 que individualmente tienen un rmse: 0.0785   0.0747  0.07965"
   ]
  },
  {
   "cell_type": "code",
   "execution_count": 1,
   "metadata": {},
   "outputs": [],
   "source": [
    "import numpy as np\n",
    "import pandas as pd\n",
    "\n",
    "from sklearn.preprocessing import OneHotEncoder, StandardScaler\n",
    "from sklearn.compose import ColumnTransformer\n",
    "from sklearn.metrics import mean_squared_error\n",
    "from sklearn.model_selection import train_test_split\n",
    "from sklearn.tree import DecisionTreeRegressor\n",
    "from sklearn.ensemble import RandomForestRegressor\n",
    "from sklearn.svm import SVR\n",
    "from sklearn.impute import SimpleImputer"
   ]
  },
  {
   "cell_type": "code",
   "execution_count": 2,
   "metadata": {},
   "outputs": [],
   "source": [
    "data=pd.read_csv(\"../data/datos_modificados.csv\")\n",
    "data=data.drop(columns=\"id\")"
   ]
  },
  {
   "cell_type": "code",
   "execution_count": 33,
   "metadata": {},
   "outputs": [],
   "source": [
    "data_usable=data[data[\"x_e_out [-]\"].notnull()].copy()\n",
    "prediction=data[data[\"x_e_out [-]\"].isnull()].copy()"
   ]
  },
  {
   "cell_type": "code",
   "execution_count": 34,
   "metadata": {},
   "outputs": [],
   "source": [
    "# Divido los datos en características (X) y columna objetivo (y)\n",
    "X = data_usable.drop('x_e_out [-]', axis=1)\n",
    "y = data_usable['x_e_out [-]']\n",
    "\n",
    "# Identificar las columnas categóricas\n",
    "categorical_cols = ['author', 'geometry']\n",
    "\n",
    "# Definir el transformador para la codificación one-hot\n",
    "ct = ColumnTransformer([('one_hot_encoder', OneHotEncoder(), categorical_cols)], remainder='passthrough')\n",
    "\n",
    "# Aplicar la codificación one-hot a las variables categóricas\n",
    "X_encoded = ct.fit_transform(X)"
   ]
  },
  {
   "cell_type": "code",
   "execution_count": 35,
   "metadata": {},
   "outputs": [],
   "source": [
    "X_train, X_test, y_train, y_test = train_test_split(X_encoded, y, test_size=0.2, random_state=42, shuffle=True)"
   ]
  },
  {
   "cell_type": "code",
   "execution_count": 36,
   "metadata": {},
   "outputs": [],
   "source": [
    "scaler = StandardScaler()\n",
    "X_train_scaled = scaler.fit_transform(X_train)\n",
    "X_test_scaled = scaler.transform(X_test)"
   ]
  },
  {
   "attachments": {},
   "cell_type": "markdown",
   "metadata": {},
   "source": [
    "Modelo 5"
   ]
  },
  {
   "cell_type": "code",
   "execution_count": 37,
   "metadata": {},
   "outputs": [
    {
     "data": {
      "text/plain": [
       "0.07850422278685386"
      ]
     },
     "execution_count": 37,
     "metadata": {},
     "output_type": "execute_result"
    }
   ],
   "source": [
    "model5 = DecisionTreeRegressor(random_state=42,max_depth= 9, min_samples_leaf=6, min_samples_split= 20)\n",
    "model5.fit(X_train_scaled, y_train)\n",
    "y_pred5 = model5.predict(X_test_scaled)\n",
    "rmse = np.sqrt(mean_squared_error(y_test, y_pred5))\n",
    "rmse"
   ]
  },
  {
   "attachments": {},
   "cell_type": "markdown",
   "metadata": {},
   "source": [
    "Modelo 6"
   ]
  },
  {
   "cell_type": "code",
   "execution_count": 38,
   "metadata": {},
   "outputs": [
    {
     "data": {
      "text/plain": [
       "0.07475886473322982"
      ]
     },
     "execution_count": 38,
     "metadata": {},
     "output_type": "execute_result"
    }
   ],
   "source": [
    "model6 = RandomForestRegressor(max_features='sqrt', min_samples_leaf=2,\n",
    "                      min_samples_split=10, n_estimators=200)\n",
    "model6.fit(X_train_scaled, y_train)\n",
    "y_pred6 = model6.predict(X_test_scaled)\n",
    "rmse = np.sqrt(mean_squared_error(y_test, y_pred6))\n",
    "rmse"
   ]
  },
  {
   "attachments": {},
   "cell_type": "markdown",
   "metadata": {},
   "source": [
    "Modelo 7"
   ]
  },
  {
   "cell_type": "code",
   "execution_count": 39,
   "metadata": {},
   "outputs": [
    {
     "data": {
      "text/plain": [
       "0.07965810821588803"
      ]
     },
     "execution_count": 39,
     "metadata": {},
     "output_type": "execute_result"
    }
   ],
   "source": [
    "model7 = SVR(C= 1, epsilon= 0.1, gamma= 'scale', kernel= 'rbf')\n",
    "model7.fit(X_train_scaled, y_train)\n",
    "y_pred7 = model7.predict(X_test_scaled)\n",
    "rmse = np.sqrt(mean_squared_error(y_test, y_pred7))\n",
    "rmse"
   ]
  },
  {
   "attachments": {},
   "cell_type": "markdown",
   "metadata": {},
   "source": [
    "Ensamble 1"
   ]
  },
  {
   "cell_type": "code",
   "execution_count": 40,
   "metadata": {},
   "outputs": [],
   "source": [
    "from sklearn.linear_model import LinearRegression"
   ]
  },
  {
   "cell_type": "code",
   "execution_count": 41,
   "metadata": {},
   "outputs": [],
   "source": [
    "from sklearn.ensemble import  StackingRegressor\n",
    "\n",
    "meta_model = LinearRegression()\n",
    "\n",
    "# Crea el apilamiento de regresión\n",
    "stacking_regressor = StackingRegressor(estimators=[('model1', model5), ('model2', model6), ('model3', model7)], final_estimator=meta_model)\n",
    "stacking_regressor.fit(X_train_scaled, y_train)\n",
    "\n",
    "# Realiza predicciones con el apilamiento\n",
    "y_pred_regression = stacking_regressor.predict(X_test_scaled)\n"
   ]
  },
  {
   "cell_type": "code",
   "execution_count": 42,
   "metadata": {},
   "outputs": [
    {
     "data": {
      "text/plain": [
       "0.07469094532448543"
      ]
     },
     "execution_count": 42,
     "metadata": {},
     "output_type": "execute_result"
    }
   ],
   "source": [
    "rmse = np.sqrt(mean_squared_error(y_test, y_pred_regression))\n",
    "rmse"
   ]
  },
  {
   "cell_type": "code",
   "execution_count": 43,
   "metadata": {},
   "outputs": [],
   "source": [
    "prediction=prediction.drop(columns=\"x_e_out [-]\")"
   ]
  },
  {
   "cell_type": "code",
   "execution_count": 46,
   "metadata": {},
   "outputs": [],
   "source": [
    "prediction_encoded = ct.fit_transform(prediction)\n",
    "prediction_final=scaler.fit_transform(prediction_encoded)"
   ]
  },
  {
   "cell_type": "code",
   "execution_count": 48,
   "metadata": {},
   "outputs": [],
   "source": [
    "submission_values=stacking_regressor.predict(prediction_final)"
   ]
  },
  {
   "cell_type": "code",
   "execution_count": 51,
   "metadata": {},
   "outputs": [],
   "source": [
    "index_submission=prediction.index"
   ]
  },
  {
   "cell_type": "code",
   "execution_count": 54,
   "metadata": {},
   "outputs": [
    {
     "data": {
      "text/html": [
       "<div>\n",
       "<style scoped>\n",
       "    .dataframe tbody tr th:only-of-type {\n",
       "        vertical-align: middle;\n",
       "    }\n",
       "\n",
       "    .dataframe tbody tr th {\n",
       "        vertical-align: top;\n",
       "    }\n",
       "\n",
       "    .dataframe thead th {\n",
       "        text-align: right;\n",
       "    }\n",
       "</style>\n",
       "<table border=\"1\" class=\"dataframe\">\n",
       "  <thead>\n",
       "    <tr style=\"text-align: right;\">\n",
       "      <th></th>\n",
       "      <th>id</th>\n",
       "      <th>x_e_out [-]</th>\n",
       "    </tr>\n",
       "  </thead>\n",
       "  <tbody>\n",
       "    <tr>\n",
       "      <th>0</th>\n",
       "      <td>4</td>\n",
       "      <td>-0.015526</td>\n",
       "    </tr>\n",
       "    <tr>\n",
       "      <th>1</th>\n",
       "      <td>7</td>\n",
       "      <td>-0.080263</td>\n",
       "    </tr>\n",
       "    <tr>\n",
       "      <th>2</th>\n",
       "      <td>10</td>\n",
       "      <td>-0.051152</td>\n",
       "    </tr>\n",
       "    <tr>\n",
       "      <th>3</th>\n",
       "      <td>12</td>\n",
       "      <td>0.014763</td>\n",
       "    </tr>\n",
       "    <tr>\n",
       "      <th>4</th>\n",
       "      <td>23</td>\n",
       "      <td>0.055743</td>\n",
       "    </tr>\n",
       "    <tr>\n",
       "      <th>...</th>\n",
       "      <td>...</td>\n",
       "      <td>...</td>\n",
       "    </tr>\n",
       "    <tr>\n",
       "      <th>10410</th>\n",
       "      <td>31633</td>\n",
       "      <td>0.088688</td>\n",
       "    </tr>\n",
       "    <tr>\n",
       "      <th>10411</th>\n",
       "      <td>31634</td>\n",
       "      <td>-0.045809</td>\n",
       "    </tr>\n",
       "    <tr>\n",
       "      <th>10412</th>\n",
       "      <td>31637</td>\n",
       "      <td>0.037908</td>\n",
       "    </tr>\n",
       "    <tr>\n",
       "      <th>10413</th>\n",
       "      <td>31640</td>\n",
       "      <td>-0.050325</td>\n",
       "    </tr>\n",
       "    <tr>\n",
       "      <th>10414</th>\n",
       "      <td>31642</td>\n",
       "      <td>-0.011386</td>\n",
       "    </tr>\n",
       "  </tbody>\n",
       "</table>\n",
       "<p>10415 rows × 2 columns</p>\n",
       "</div>"
      ],
      "text/plain": [
       "          id  x_e_out [-]\n",
       "0          4    -0.015526\n",
       "1          7    -0.080263\n",
       "2         10    -0.051152\n",
       "3         12     0.014763\n",
       "4         23     0.055743\n",
       "...      ...          ...\n",
       "10410  31633     0.088688\n",
       "10411  31634    -0.045809\n",
       "10412  31637     0.037908\n",
       "10413  31640    -0.050325\n",
       "10414  31642    -0.011386\n",
       "\n",
       "[10415 rows x 2 columns]"
      ]
     },
     "execution_count": 54,
     "metadata": {},
     "output_type": "execute_result"
    }
   ],
   "source": [
    "df = pd.DataFrame({'id': index_submission, 'x_e_out [-]': submission_values})\n",
    "df.to_csv(\"submissions/Submission2_model8.csv\", index=False)\n",
    "df"
   ]
  },
  {
   "attachments": {},
   "cell_type": "markdown",
   "metadata": {},
   "source": [
    "Ensamble 2"
   ]
  },
  {
   "cell_type": "code",
   "execution_count": 55,
   "metadata": {},
   "outputs": [],
   "source": [
    "from sklearn.ensemble import VotingRegressor\n",
    "\n",
    "\n",
    "# Crea el ensamble de regresión\n",
    "voting_regressor = VotingRegressor(estimators=[('model1', model5), ('model2', model6), ('model3', model7)])\n",
    "voting_regressor.fit(X_train_scaled, y_train)\n",
    "\n",
    "# Realiza predicciones con el ensamble\n",
    "\n",
    "y_pred_regression = voting_regressor.predict(X_test_scaled)\n"
   ]
  },
  {
   "cell_type": "code",
   "execution_count": 56,
   "metadata": {},
   "outputs": [
    {
     "data": {
      "text/plain": [
       "0.07554328359414704"
      ]
     },
     "execution_count": 56,
     "metadata": {},
     "output_type": "execute_result"
    }
   ],
   "source": [
    "rmse = np.sqrt(mean_squared_error(y_test, y_pred_regression))\n",
    "rmse"
   ]
  },
  {
   "attachments": {},
   "cell_type": "markdown",
   "metadata": {},
   "source": [
    "Ensamble 3"
   ]
  },
  {
   "cell_type": "code",
   "execution_count": 57,
   "metadata": {},
   "outputs": [],
   "source": [
    "y_pred_model1 = model5.predict(X_test_scaled)\n",
    "y_pred_model2 = model6.predict(X_test_scaled)\n",
    "y_pred_model3 = model7.predict(X_test_scaled)\n",
    "\n",
    "# Calcula el promedio de las predicciones\n",
    "y_pred_ensemble = (y_pred_model1 + y_pred_model2 + y_pred_model3) / 3"
   ]
  },
  {
   "cell_type": "code",
   "execution_count": 58,
   "metadata": {},
   "outputs": [
    {
     "data": {
      "text/plain": [
       "0.07546943009804515"
      ]
     },
     "execution_count": 58,
     "metadata": {},
     "output_type": "execute_result"
    }
   ],
   "source": [
    "rmse = np.sqrt(mean_squared_error(y_test, y_pred_ensemble))\n",
    "rmse"
   ]
  },
  {
   "attachments": {},
   "cell_type": "markdown",
   "metadata": {},
   "source": [
    "Ensamble 4"
   ]
  },
  {
   "cell_type": "code",
   "execution_count": 59,
   "metadata": {},
   "outputs": [],
   "source": [
    "from sklearn.tree import DecisionTreeRegressor"
   ]
  },
  {
   "cell_type": "code",
   "execution_count": 62,
   "metadata": {},
   "outputs": [],
   "source": [
    "model = DecisionTreeRegressor(random_state=562)\n",
    "model.fit(X_train_scaled, y_train)\n",
    "y_pred = model.predict(X_test_scaled)"
   ]
  },
  {
   "cell_type": "code",
   "execution_count": 63,
   "metadata": {},
   "outputs": [
    {
     "data": {
      "text/plain": [
       "0.10668303624783625"
      ]
     },
     "execution_count": 63,
     "metadata": {},
     "output_type": "execute_result"
    }
   ],
   "source": [
    "rmse = np.sqrt(mean_squared_error(y_test, y_pred))\n",
    "rmse"
   ]
  },
  {
   "cell_type": "code",
   "execution_count": 79,
   "metadata": {},
   "outputs": [
    {
     "name": "stdout",
     "output_type": "stream",
     "text": [
      "0.0745640921559147\n"
     ]
    }
   ],
   "source": [
    "from sklearn.ensemble import  StackingRegressor\n",
    "\n",
    "meta_model = LinearRegression()\n",
    "\n",
    "# Crea el apilamiento de regresión\n",
    "stacking_regressor = StackingRegressor(estimators=[('model1', model5), ('model2', model6), ('model3', model7),('model4', model)], final_estimator=meta_model)\n",
    "stacking_regressor.fit(X_train_scaled, y_train)\n",
    "\n",
    "# Realiza predicciones con el apilamiento\n",
    "y_pred_regression = stacking_regressor.predict(X_test_scaled)\n",
    "\n",
    "rmse = np.sqrt(mean_squared_error(y_test, y_pred_regression))\n",
    "print(rmse)\n",
    "\n",
    "submit1=stacking_regressor.predict(prediction_final)"
   ]
  },
  {
   "cell_type": "code",
   "execution_count": 80,
   "metadata": {},
   "outputs": [
    {
     "name": "stdout",
     "output_type": "stream",
     "text": [
      "0.0745640921559147\n"
     ]
    }
   ],
   "source": [
    "from sklearn.ensemble import  StackingRegressor\n",
    "\n",
    "meta_model = RandomForestRegressor()\n",
    "\n",
    "# Crea el apilamiento de regresión\n",
    "stacking_regressor = StackingRegressor(estimators=[('model1', model5), ('model2', model6), ('model3', model7),('model4', model)], final_estimator=meta_model)\n",
    "stacking_regressor.fit(X_train_scaled, y_train)\n",
    "\n",
    "# Realiza predicciones con el apilamiento\n",
    "y_pred_regression2 = stacking_regressor.predict(X_test_scaled)\n",
    "\n",
    "rmse = np.sqrt(mean_squared_error(y_test, y_pred_regression))\n",
    "print(rmse)\n",
    "submit2=stacking_regressor.predict(prediction_final)"
   ]
  },
  {
   "cell_type": "code",
   "execution_count": 81,
   "metadata": {},
   "outputs": [
    {
     "name": "stdout",
     "output_type": "stream",
     "text": [
      "0.0745267882866566\n"
     ]
    }
   ],
   "source": [
    "from sklearn.ensemble import  GradientBoostingRegressor\n",
    "\n",
    "meta_model = GradientBoostingRegressor()\n",
    "\n",
    "# Crea el apilamiento de regresión\n",
    "stacking_regressor = StackingRegressor(estimators=[('model1', model5), ('model2', model6), ('model3', model7),('model4', model)], final_estimator=meta_model)\n",
    "stacking_regressor.fit(X_train_scaled, y_train)\n",
    "\n",
    "# Realiza predicciones con el apilamiento\n",
    "y_pred_regression = stacking_regressor.predict(X_test_scaled)\n",
    "\n",
    "rmse = np.sqrt(mean_squared_error(y_test, y_pred_regression))\n",
    "print(rmse)\n",
    "submit3=stacking_regressor.predict(prediction_final)"
   ]
  },
  {
   "cell_type": "code",
   "execution_count": 77,
   "metadata": {},
   "outputs": [],
   "source": [
    "union3=((submit1+submit2+submit3)/3)"
   ]
  },
  {
   "cell_type": "code",
   "execution_count": 82,
   "metadata": {},
   "outputs": [
    {
     "data": {
      "text/html": [
       "<div>\n",
       "<style scoped>\n",
       "    .dataframe tbody tr th:only-of-type {\n",
       "        vertical-align: middle;\n",
       "    }\n",
       "\n",
       "    .dataframe tbody tr th {\n",
       "        vertical-align: top;\n",
       "    }\n",
       "\n",
       "    .dataframe thead th {\n",
       "        text-align: right;\n",
       "    }\n",
       "</style>\n",
       "<table border=\"1\" class=\"dataframe\">\n",
       "  <thead>\n",
       "    <tr style=\"text-align: right;\">\n",
       "      <th></th>\n",
       "      <th>id</th>\n",
       "      <th>x_e_out [-]</th>\n",
       "    </tr>\n",
       "  </thead>\n",
       "  <tbody>\n",
       "    <tr>\n",
       "      <th>0</th>\n",
       "      <td>4</td>\n",
       "      <td>-0.016493</td>\n",
       "    </tr>\n",
       "    <tr>\n",
       "      <th>1</th>\n",
       "      <td>7</td>\n",
       "      <td>-0.071896</td>\n",
       "    </tr>\n",
       "    <tr>\n",
       "      <th>2</th>\n",
       "      <td>10</td>\n",
       "      <td>-0.057653</td>\n",
       "    </tr>\n",
       "    <tr>\n",
       "      <th>3</th>\n",
       "      <td>12</td>\n",
       "      <td>0.017860</td>\n",
       "    </tr>\n",
       "    <tr>\n",
       "      <th>4</th>\n",
       "      <td>23</td>\n",
       "      <td>0.056318</td>\n",
       "    </tr>\n",
       "    <tr>\n",
       "      <th>...</th>\n",
       "      <td>...</td>\n",
       "      <td>...</td>\n",
       "    </tr>\n",
       "    <tr>\n",
       "      <th>10410</th>\n",
       "      <td>31633</td>\n",
       "      <td>0.081017</td>\n",
       "    </tr>\n",
       "    <tr>\n",
       "      <th>10411</th>\n",
       "      <td>31634</td>\n",
       "      <td>-0.043822</td>\n",
       "    </tr>\n",
       "    <tr>\n",
       "      <th>10412</th>\n",
       "      <td>31637</td>\n",
       "      <td>0.037059</td>\n",
       "    </tr>\n",
       "    <tr>\n",
       "      <th>10413</th>\n",
       "      <td>31640</td>\n",
       "      <td>-0.047986</td>\n",
       "    </tr>\n",
       "    <tr>\n",
       "      <th>10414</th>\n",
       "      <td>31642</td>\n",
       "      <td>-0.016493</td>\n",
       "    </tr>\n",
       "  </tbody>\n",
       "</table>\n",
       "<p>10415 rows × 2 columns</p>\n",
       "</div>"
      ],
      "text/plain": [
       "          id  x_e_out [-]\n",
       "0          4    -0.016493\n",
       "1          7    -0.071896\n",
       "2         10    -0.057653\n",
       "3         12     0.017860\n",
       "4         23     0.056318\n",
       "...      ...          ...\n",
       "10410  31633     0.081017\n",
       "10411  31634    -0.043822\n",
       "10412  31637     0.037059\n",
       "10413  31640    -0.047986\n",
       "10414  31642    -0.016493\n",
       "\n",
       "[10415 rows x 2 columns]"
      ]
     },
     "execution_count": 82,
     "metadata": {},
     "output_type": "execute_result"
    }
   ],
   "source": [
    "df = pd.DataFrame({'id': index_submission, 'x_e_out [-]': submit3})\n",
    "df.to_csv(\"submissions/Submission4_model8.csv\", index=False)\n",
    "df"
   ]
  },
  {
   "cell_type": "code",
   "execution_count": 74,
   "metadata": {},
   "outputs": [
    {
     "data": {
      "text/plain": [
       "-0.008324327406787645"
      ]
     },
     "execution_count": 74,
     "metadata": {},
     "output_type": "execute_result"
    }
   ],
   "source": [
    "submit1[0]"
   ]
  },
  {
   "cell_type": "code",
   "execution_count": 75,
   "metadata": {},
   "outputs": [
    {
     "data": {
      "text/plain": [
       "-0.021125000000000015"
      ]
     },
     "execution_count": 75,
     "metadata": {},
     "output_type": "execute_result"
    }
   ],
   "source": [
    "submit2[0]"
   ]
  },
  {
   "cell_type": "code",
   "execution_count": 76,
   "metadata": {},
   "outputs": [
    {
     "data": {
      "text/plain": [
       "-0.012326333263975673"
      ]
     },
     "execution_count": 76,
     "metadata": {},
     "output_type": "execute_result"
    }
   ],
   "source": [
    "submit3[0]"
   ]
  }
 ],
 "metadata": {
  "kernelspec": {
   "display_name": "Python 3",
   "language": "python",
   "name": "python3"
  },
  "language_info": {
   "codemirror_mode": {
    "name": "ipython",
    "version": 3
   },
   "file_extension": ".py",
   "mimetype": "text/x-python",
   "name": "python",
   "nbconvert_exporter": "python",
   "pygments_lexer": "ipython3",
   "version": "3.7.4"
  },
  "orig_nbformat": 4
 },
 "nbformat": 4,
 "nbformat_minor": 2
}
